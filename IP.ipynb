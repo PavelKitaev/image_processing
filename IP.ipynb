{
 "cells": [
  {
   "cell_type": "code",
   "execution_count": 3,
   "id": "bc0f5c85",
   "metadata": {},
   "outputs": [],
   "source": [
    "import matplotlib.pyplot as plt\n",
    "import numpy as np"
   ]
  },
  {
   "cell_type": "code",
   "execution_count": 4,
   "id": "d2244024",
   "metadata": {},
   "outputs": [],
   "source": [
    "c1_year = 98000                                               #Стоимость 1С в год\n",
    "internet_year = 12000                                         #Стоимость интернета в год\n",
    "number_of_students = 20                                       #Количество студентов в группе\n",
    "bachelor_groups = 4                                           #Количество групп бакалавриата\n",
    "graduate_groups = 2                                           #Количество групп магистратуры\n",
    "building_area = 1600                                          #Площадь здания\n",
    "communal_expenses = building_area * 100                       #Комунальные расходы в год (в среднем 100 руб за кв)\n",
    "chancellery = 60000                                           #Расходы на канцелярию за 10 месяцев (с учетом бумаги)\n",
    "siz = 10000                                                   #Септики и маски на 10 месяцев\n",
    "technology_update = 350000                                    #Стоимость обновления оборудования раз в 5 лет (расходы разделены на год)\n"
   ]
  },
  {
   "cell_type": "code",
   "execution_count": 5,
   "id": "f4309594",
   "metadata": {},
   "outputs": [],
   "source": [
    "#Предметы - Название[Часы лекций, практик]\n",
    "#1 курс\n",
    "foreign_language_1 = [0, 64]                                  #Иностранный язык\n",
    "infor_and_prog = [96, 64]                                     #Информатика и программирование\n",
    "higher_math_1 = [96, 96]                                      #Высшая математика\n",
    "discrete_math = [64, 64]                                      #Дискретная математика\n",
    "robot_programming = [16, 32]                                  #Программирование роботов\n",
    "pchmi = [16, 16]                                              #Проектирование человеко-машинного интерфейса\n",
    "computer_math_systems = [16, 16]                              #Системы компьютерной математики\n",
    "visual_prog_technologies = [16, 32]                           #Технологии визуального программирования"
   ]
  },
  {
   "cell_type": "code",
   "execution_count": 6,
   "id": "123fe14b",
   "metadata": {},
   "outputs": [],
   "source": [
    "#2 курс\n",
    "java = [32, 16]                                               #Java\n",
    "asd = [64, 64]                                                #Алгоритмы и структуры данных\n",
    "сomputing_systems_architecture = [48, 16]                     #Архитектура вычислительных систем\n",
    "introduction_to_iot = [16, 32]                                #Введение в интернет вещей\n",
    "higher_math_2 = [32, 32]                                      #Высшая математика\n",
    "documenting_software = [16, 32]                               #Документирование ПО\n",
    "foreign_language_2 = [0, 64]                                  #Иностранный язык\n",
    "Mathematical_logic_and_theory_of_algorithms = [32, 32]        #Математическая логика и теория алгоритмов\n",
    "computer_graphics = [32, 32]                                  #Компьютерная графика\n",
    "software_engineering = [32, 0]                                #Конструирование программного обеспечения\n",
    "optimization_methods_2 = [32, 16]                             #Методы оптимизации\n",
    "os = [48, 16]                                                 #Операционные системы\n",
    "database_technologies = [32, 32]                              #Технологии баз данных\n",
    "iot_technologies = [16, 32]                                   #Технологии Интернета вещей"
   ]
  },
  {
   "cell_type": "code",
   "execution_count": 7,
   "id": "e71d4727",
   "metadata": {},
   "outputs": [],
   "source": [
    "#3 курс\n",
    "parallel_programming = [32, 32]                               #Параллельное программирование\n",
    "internet_technologies = [16, 16]                              #Технологии сети Интернет\n",
    "requirements_development_and_analysis = [16, 16]              #Разработка и анализ требований\n",
    "telecommunication_systems_management = [16, 16]               #Управление системами телекоммуникаций\n",
    "image_processing = [32, 16]                                   #Обработка изображений\n",
    "introduction_to_software_engineering = [32, 0]                #Введение в программную инженерию\n",
    "optimization_methods_3 = [16, 16]                             #Методы оптимизации\n",
    "computer_networks = [16, 16]                                  #Компьютерные сети\n",
    "numerical_methods = [32, 32]                                  #Численные методы\n",
    "prof_cpp = [16, 16]                                           #Профессиональный C++\n",
    "software_testing = [16, 16]                                   #Тестирование программного обеспечения\n",
    "programming_tools = [32, 0]                                   #Инструменты программирования\n",
    "dev_java_network_app = [16, 16]                               #Разработка сетевых приложений на Java\n",
    "mobile_systems_programming = [32, 16]                         #Программирование мобильных систем\n",
    "physics = [32, 16]                                            #Физика\n",
    "familiarization_practice_3 = [48, 0]                          #Ознакомительная практика\n",
    "technological_practice = [48, 0]                              #Технологическая практика\n",
    "big_data_engineering = [16, 16]                               #инженерия больших данных"
   ]
  },
  {
   "cell_type": "code",
   "execution_count": 8,
   "id": "c9154b1e",
   "metadata": {},
   "outputs": [],
   "source": [
    "#4 курс\n",
    "theory_of_automata_and_formal_languages = [32, 32]            #Теория автоматов и формальных языков\n",
    "economics_of_software_engineering = [32, 16]                  #Экономика программной инженерии\n",
    "socio_ethical_issues_of_information_technology = [16, 16]     #Социально-этические вопросы информационных технологий\n",
    "information_tеchnology_security_fundamentals = [24, 0]        #Основы безопасности информационных технологий\n",
    "operations_research = [48, 24]                                #Исследование операций\n",
    "systems_theory_and_systems_analysis = [24, 0]                 #Теория систем и системный анализ\n",
    "software_project_management = [16, 32]                        #Управление программными проектами\n",
    "distributed_processing_technology = [24, 12]                  #Технология распределённой обработки\n",
    "design_and_architecture_of_software_systems = [16, 16]        #Проектирование и архитектура программных систем\n",
    "programming_on_new_architectures = [16, 32]                   #Программирование на новых архитектурах\n",
    "fundamentals_of_computer_vision = [16, 16]                    #Основы компьютерного зрения\n",
    "cloud_computing = [12, 12]                                    #Облачные вычисления\n",
    "research_work_4 = [180, 0]                                    #Научно-исследовательская работа\n",
    "undergraduate_practice = [180, 0]                             #Преддипломная практика"
   ]
  },
  {
   "cell_type": "code",
   "execution_count": 9,
   "id": "77854ca9",
   "metadata": {},
   "outputs": [],
   "source": [
    "#5 курс\n",
    "english_5 = [0, 32]                                           #Английский язык\n",
    "legal_and_economic_aspects_of_it = [16, 16]                   #Правовые и экономические аспекты ИТ\n",
    "it_company_economic_statistics = [0, 32]                      #Экономическая статистика ИТ компании\n",
    "modern_databases = [16, 32]                                   #Современные базы данных\n",
    "decision_choice_models = [0, 32]                              #Модели выбора решений\n",
    "it_project_management = [32, 0]                               #Управление ИТ-проектами\n",
    "analysis_and_software_design = [16, 16]                       #Анализ и проектирование ПО\n",
    "requirements_analysis = [16, 16]                              #Анализ требований\n",
    "parallel_numerical_methods = [32, 32]                         #Параллельные численные методы\n",
    "software_design_patterns = [16, 16]                           #Шаблоны проектирования ПО\n",
    "modern_computer_graphics = [16, 32]                           #Современная компьютерная графика\n",
    "iot = [16, 16]                                                #Интернет вещей\n",
    "big_data = [16, 16]                                           #Большие данные\n",
    "performance_analysis_and_software_optimization = [16, 16]     #Анализ производительности и оптимизация ПО\n",
    "programming_in_scripting_languages = [16, 16]                 #Программирование на скриптовых языках\n",
    "fundamentals_of_robotics = [16, 16]                           #Основы робототехники\n",
    "familiarization_practice_5 = [20, 0]                          #Ознакомительная практика\n",
    "research_work_5 = [20, 0]                                     #Научно-исследовательская работа"
   ]
  },
  {
   "cell_type": "code",
   "execution_count": 10,
   "id": "0c31635d",
   "metadata": {},
   "outputs": [],
   "source": [
    "#6 курс\n",
    "english_6 = [0, 32]                                           #Английский язык\n",
    "fundamentals_of_nir_organization = [0, 32]                    #Основы организации НИР\n",
    "machine_learning = [32, 32]                                   #Машинное обучение\n",
    "information_security_software = [16, 16]                      #Информационная безопасность ПО\n",
    "agile_software_development_practices = [0, 32]                #Гибкие методики разработки ПО\n",
    "process_standards_and_controls = [0, 48]                      #Стандарты и средства управления качеством процесса\n",
    "deep_learning = [32, 16]                                      #Глубокое обучение\n",
    "cloud_computing = [32, 16]                                    #Облачные вычисления\n",
    "undergraduate_practice = [0, 20]                              #Преддипломная практика\n",
    "vkr = [0, 9]                                                  #Выпускная квалификационная работа - магистерская диссертация"
   ]
  },
  {
   "cell_type": "code",
   "execution_count": 11,
   "id": "9ab096e6",
   "metadata": {},
   "outputs": [],
   "source": [
    "#ЗП сотрудников\n",
    "\n",
    "methodist_1 = 35000                                           #Методист\n",
    "methodist_2 = 36000                                           #Старший методист\n",
    "\n",
    "accountant_1 = 40000                                          #Бухгалтер\n",
    "accountant_2 = 45000                                          #Главный бухгалтер\n",
    "\n",
    "system_administrator = 45000                                  #Системный администратор\n",
    "\n",
    "сleaner = 20000                                               #Уборщик\n",
    "cloakroom_attendant = 20000                                   #Гардеробщик\n"
   ]
  },
  {
   "cell_type": "code",
   "execution_count": 12,
   "id": "b92d2e91",
   "metadata": {},
   "outputs": [],
   "source": [
    "#Функция расчета ЗП преподавателей\n",
    "#Годовой оклад + нагрузка, деленая на 12 месяцев\n",
    "\n",
    "def salary_of_employees(lectures, practices, number_of_groups):\n",
    "    return (192000 + ((lectures * 300) + (practices * 420)) * number_of_groups) /12\n"
   ]
  },
  {
   "cell_type": "code",
   "execution_count": 13,
   "id": "c4be4f2f",
   "metadata": {},
   "outputs": [],
   "source": [
    "#Расчет ЗП преподавателей бакалавриата\n",
    "\n",
    "teacher_1 = salary_of_employees(infor_and_prog[0] + robot_programming[0] + computer_math_systems[0], \n",
    "                                infor_and_prog[1] + robot_programming[1] + computer_math_systems[1], 4)\n",
    "\n",
    "teacher_2 = salary_of_employees(higher_math_1[0] + higher_math_2[0] +  discrete_math[0] + \n",
    "                                Mathematical_logic_and_theory_of_algorithms[0], 0, 8)\n",
    "\n",
    "teacher_3 = salary_of_employees( 0, foreign_language_1[1] + foreign_language_2[1], 8)\n",
    "teacher_4 = salary_of_employees(visual_prog_technologies[0] + pchmi[0], visual_prog_technologies[1] + pchmi[1], 4)\n",
    "teacher_5 = salary_of_employees(java[0] +  asd[0] + сomputing_systems_architecture[0],\n",
    "                                java[1] +  asd[1] + сomputing_systems_architecture[1], 4)\n",
    "\n",
    "teacher_6 = salary_of_employees(introduction_to_iot[0] + documenting_software[0] + software_engineering[0], \n",
    "                                documenting_software[1] + introduction_to_iot[1], 4)\n",
    "\n",
    "teacher_7 = salary_of_employees(0, higher_math_1[1] +  discrete_math[1] +\n",
    "                                Mathematical_logic_and_theory_of_algorithms[1], 8)\n",
    "                                \n",
    "teacher_8 = salary_of_employees(computer_graphics[0] + image_processing[0], \n",
    "                                computer_graphics[1] + image_processing[1], 4) \n",
    "\n",
    "teacher_9 = salary_of_employees(optimization_methods_2[0] + optimization_methods_3[0], \n",
    "                                Mathematical_logic_and_theory_of_algorithms[1] + optimization_methods_2[1] + \n",
    "                                optimization_methods_3[1], 4)\n",
    "\n",
    "teacher_10 = salary_of_employees(database_technologies[0] + os[0] + iot_technologies[0], \n",
    "                                 database_technologies[1] + os[1] + iot_technologies[1], 4)\n",
    "                                \n",
    "teacher_11 = salary_of_employees(parallel_programming[0] + internet_technologies[0] + computer_networks[0], \n",
    "                                 computer_networks[1] + parallel_programming[1] + internet_technologies[1], 4)\n",
    "\n",
    "teacher_12 = salary_of_employees(requirements_development_and_analysis[0] + telecommunication_systems_management[0] +\n",
    "                                 introduction_to_software_engineering[0],\n",
    "                                 requirements_development_and_analysis[1] + telecommunication_systems_management[1], 4)\n",
    "\n",
    "teacher_13 = salary_of_employees(numerical_methods[0], numerical_methods[1], 4)\n",
    "teacher_14 = salary_of_employees(prof_cpp[0] + software_testing[0] + programming_tools[0], \n",
    "                                 prof_cpp[1] + software_testing[1], 4)\n",
    "\n",
    "teacher_15 = salary_of_employees(dev_java_network_app[0] + mobile_systems_programming[0] + big_data_engineering[0],\n",
    "                                 dev_java_network_app[1] + mobile_systems_programming[1] + big_data_engineering[1], 4)\n",
    "\n",
    "teacher_16 = salary_of_employees(familiarization_practice_3[0] + technological_practice[0], 0, 4)\n",
    "teacher_17 = salary_of_employees(physics[0], physics[1], 8)\n",
    "\n",
    "teacher_18 = salary_of_employees(theory_of_automata_and_formal_languages[0] + economics_of_software_engineering[0] +\n",
    "                                 socio_ethical_issues_of_information_technology[0], theory_of_automata_and_formal_languages[1] + economics_of_software_engineering[0] +\n",
    "                                 socio_ethical_issues_of_information_technology[1] + economics_of_software_engineering[1], 4)\n",
    "\n",
    "teacher_19 = salary_of_employees(information_tеchnology_security_fundamentals[0] + operations_research[0] +\n",
    "                                 systems_theory_and_systems_analysis[0], operations_research[1], 4)\n",
    "\n",
    "teacher_20 = salary_of_employees(software_project_management[0] + distributed_processing_technology[0] + cloud_computing[0],\n",
    "                                 software_project_management[1] + distributed_processing_technology[1] + cloud_computing[1], 4)\n",
    "\n",
    "teacher_21 = salary_of_employees(research_work_4[0] + undergraduate_practice[0], 0, 4)\n",
    "teacher_22 = salary_of_employees(fundamentals_of_computer_vision[0] + programming_on_new_architectures[0] + \n",
    "                                 design_and_architecture_of_software_systems[0],\n",
    "                                 fundamentals_of_computer_vision[1] + programming_on_new_architectures[1] +\n",
    "                                 design_and_architecture_of_software_systems[1], 4)\n",
    "\n",
    "#Преподаватели магистратуры\n",
    "teacher_23 = salary_of_employees(0, english_5[1] + english_6[1], 2)\n",
    "teacher_24 = salary_of_employees(legal_and_economic_aspects_of_it[0] + it_company_economic_statistics[0],\n",
    "                                 legal_and_economic_aspects_of_it[1] + it_company_economic_statistics[1], 2)\n",
    "\n",
    "teacher_25 = salary_of_employees(modern_databases[0] + it_project_management[0], \n",
    "                                 modern_databases[1] + decision_choice_models[1], 2)\n",
    "\n",
    "teacher_26 = salary_of_employees(analysis_and_software_design[0] + requirements_analysis[0] + parallel_numerical_methods[0],\n",
    "                                 analysis_and_software_design[1] + requirements_analysis[1] + parallel_numerical_methods[1], 2)\n",
    "\n",
    "teacher_27 = salary_of_employees(software_design_patterns[0] + modern_computer_graphics[0] + iot[0],\n",
    "                                 software_design_patterns[1] + modern_computer_graphics[1] + iot[1], 2)\n",
    "\n",
    "teacher_28 = salary_of_employees(big_data[0] + performance_analysis_and_software_optimization[0] + research_work_5[0],\n",
    "                                 big_data[1] + performance_analysis_and_software_optimization[1], 2)\n",
    "\n",
    "teacher_29 = salary_of_employees(programming_in_scripting_languages[0] + fundamentals_of_robotics[0] + familiarization_practice_5[0],\n",
    "                                 programming_in_scripting_languages[1] + fundamentals_of_robotics[1], 2)\n",
    "\n",
    "teacher_30 = salary_of_employees(machine_learning [0], fundamentals_of_nir_organization[1] + machine_learning[1] + \n",
    "                                 agile_software_development_practices[1], 2)\n",
    "\n",
    "teacher_31 = salary_of_employees(information_security_software[0], \n",
    "                                 information_security_software[1] + process_standards_and_controls[1], 2)\n",
    "\n",
    "teacher_32 = salary_of_employees(deep_learning[0] + cloud_computing[0], deep_learning[1] + cloud_computing[1], 2)\n",
    "teacher_33 = salary_of_employees(0, undergraduate_practice[1] + vkr[1], 2)\n",
    "\n"
   ]
  },
  {
   "cell_type": "code",
   "execution_count": 14,
   "id": "d992911c",
   "metadata": {},
   "outputs": [],
   "source": [
    "def taxes (zp):\n",
    "    return zp - (zp * 0.13)"
   ]
  },
  {
   "cell_type": "code",
   "execution_count": 15,
   "id": "49299979",
   "metadata": {},
   "outputs": [
    {
     "name": "stdout",
     "output_type": "stream",
     "text": [
      "ЗП преподавателей:\n"
     ]
    },
    {
     "data": {
      "image/png": "[encoded data removed]",
      "text/plain": [
       "<Figure size 432x288 with 1 Axes>"
      ]
     },
     "metadata": {
      "needs_background": "light"
     },
     "output_type": "display_data"
    }
   ],
   "source": [
    "x = [taxes(teacher_1), taxes(teacher_2), taxes(teacher_3), taxes(teacher_4), taxes(teacher_5), taxes(teacher_6), \n",
    "     taxes(teacher_7), taxes(teacher_8), taxes(teacher_9), taxes(teacher_10), taxes(teacher_11), taxes(teacher_12),\n",
    "     taxes(teacher_13), taxes(teacher_14), taxes(teacher_15), taxes(teacher_16), taxes(teacher_17), taxes(teacher_18), \n",
    "     taxes(teacher_19), taxes(teacher_20), taxes(teacher_21), taxes(teacher_22), taxes(teacher_23), taxes(teacher_24), \n",
    "     taxes(teacher_25), taxes(teacher_26), taxes(teacher_27), taxes(teacher_28), taxes(teacher_29), taxes(teacher_30), \n",
    "     taxes(teacher_31), taxes(teacher_32), taxes(teacher_33)]\n",
    "\n",
    "\n",
    "print(\"ЗП преподавателей:\")\n",
    "plt.plot(x)\n",
    "plt.show()"
   ]
  },
  {
   "cell_type": "code",
   "execution_count": 16,
   "id": "174b86a3",
   "metadata": {},
   "outputs": [
    {
     "name": "stdout",
     "output_type": "stream",
     "text": [
      "Затраты в год при очном обучении:  3582000\n",
      "Распределение общих затрат на всех студентов:  29850.0\n"
     ]
    }
   ],
   "source": [
    "#Расчет общих затрат в год при очном обучении\n",
    "\n",
    "total_costs_offline = c1_year + internet_year + communal_expenses + chancellery + siz + technology_update + (methodist_1*12) + \\\n",
    "        (methodist_2 * 12) + (accountant_1 * 12) + (accountant_2 * 12) + (system_administrator * 12) + (сleaner * 12) + \\\n",
    "        (cloakroom_attendant * 12)\n",
    "\n",
    "print (\"Затраты в год при очном обучении: \", total_costs_offline)\n",
    "\n",
    "total_coast_offline_std = total_costs_offline / ((bachelor_groups + graduate_groups) * number_of_students)\n",
    "print(\"Распределение общих затрат на всех студентов: \", total_coast_offline_std)"
   ]
  },
  {
   "cell_type": "code",
   "execution_count": 17,
   "id": "78d41d1e",
   "metadata": {},
   "outputs": [
    {
     "name": "stdout",
     "output_type": "stream",
     "text": [
      "Затраты в год при дистанционном обучении:  2522000\n",
      "Распределение общих затрат на всех студентов:  21016.666666666668\n"
     ]
    }
   ],
   "source": [
    "#Расчет общих затрат в год при очном обучении\n",
    "total_coast_online = c1_year + internet_year + (methodist_1 * 12) + \\\n",
    "        (methodist_2 * 12) + (accountant_1 * 12) + (accountant_2 * 12) + (system_administrator * 12)\n",
    "\n",
    "print (\"Затраты в год при дистанционном обучении: \", total_coast_online)\n",
    "\n",
    "total_coast_online_std = total_coast_online / ((bachelor_groups + graduate_groups) * number_of_students)\n",
    "print(\"Распределение общих затрат на всех студентов: \", total_coast_online_std)"
   ]
  },
  {
   "cell_type": "code",
   "execution_count": 18,
   "id": "0ffe010d",
   "metadata": {},
   "outputs": [
    {
     "name": "stdout",
     "output_type": "stream",
     "text": [
      "Затраты на выплаты ЗП преподавателем бакалавриата:  9310080.0\n",
      "Распределение на студентов бакалавриата:  116376.0\n"
     ]
    }
   ],
   "source": [
    "#Затраты на выплаты ЗП преподавателем бакалавриата (включая налоги)\n",
    "costs_of_salary_bachelor = (teacher_1 + teacher_2 + teacher_3 + teacher_4 + teacher_5 + teacher_6 + teacher_7 + teacher_8 + \\\n",
    "                        teacher_9 + teacher_10 + teacher_11 + teacher_12 + teacher_13 + teacher_14 + teacher_15 + \\\n",
    "                        teacher_16 + teacher_17 + teacher_18 + teacher_19 + teacher_20 + teacher_21 + teacher_22) * 12\n",
    "\n",
    "print(\"Затраты на выплаты ЗП преподавателем бакалавриата: \", costs_of_salary_bachelor)\n",
    "\n",
    "costs_of_salary_bachelor_std = costs_of_salary_bachelor / (bachelor_groups * number_of_students)\n",
    "print(\"Распределение на студентов бакалавриата: \", costs_of_salary_bachelor_std)"
   ]
  },
  {
   "cell_type": "code",
   "execution_count": 19,
   "id": "2ca0e211",
   "metadata": {},
   "outputs": [
    {
     "name": "stdout",
     "output_type": "stream",
     "text": [
      "Затраты на выплаты ЗП преподавателем магистратуры:  2841960.0\n",
      "Распределение на студентов магистратуры:  71049.0\n"
     ]
    }
   ],
   "source": [
    "#Затраты на выплаты ЗП преподавателем магистратуры (включая налоги)\n",
    "costs_of_salary_of_magistracy = (teacher_23 + teacher_24 + teacher_25 + teacher_26 + teacher_27 + teacher_28 + teacher_29 + \\\n",
    "                                teacher_30 + teacher_31 + teacher_32 + teacher_33 ) * 12\n",
    "\n",
    "print(\"Затраты на выплаты ЗП преподавателем магистратуры: \", costs_of_salary_of_magistracy)\n",
    "\n",
    "costs_of_salary_of_magistracy_std = costs_of_salary_of_magistracy / (graduate_groups * number_of_students)\n",
    "print(\"Распределение на студентов магистратуры: \", costs_of_salary_of_magistracy_std)"
   ]
  },
  {
   "cell_type": "code",
   "execution_count": 20,
   "id": "64a6c0dd",
   "metadata": {},
   "outputs": [
    {
     "name": "stdout",
     "output_type": "stream",
     "text": [
      "Распределение суммартных затрат на студента очного обучения (бакалавриат, учебный год):  146226.0\n"
     ]
    }
   ],
   "source": [
    "#Распределение суммартных затрат на студента очного обучения (бакалавриат) \n",
    "bak = total_coast_offline_std + costs_of_salary_bachelor_std\n",
    "print(\"Распределение суммартных затрат на студента очного обучения (бакалавриат, учебный год): \", bak)"
   ]
  },
  {
   "cell_type": "code",
   "execution_count": 21,
   "id": "1fb10872",
   "metadata": {},
   "outputs": [
    {
     "name": "stdout",
     "output_type": "stream",
     "text": [
      "Распределение суммартных затрат на студента очного обучения (магистратура, учебный год):  100899.0\n"
     ]
    }
   ],
   "source": [
    "#Распределение суммартных затрат на студента очного обучения (магистратура) \n",
    "mag = total_coast_offline_std + costs_of_salary_of_magistracy_std\n",
    "print(\"Распределение суммартных затрат на студента очного обучения (магистратура, учебный год): \", mag)"
   ]
  },
  {
   "cell_type": "code",
   "execution_count": 22,
   "id": "78e1cb8d",
   "metadata": {},
   "outputs": [
    {
     "name": "stdout",
     "output_type": "stream",
     "text": [
      "Распределение суммартных затрат на студента дистанционного обучения (бакалавриат, учебный год):  137392.66666666666\n"
     ]
    }
   ],
   "source": [
    "#Распределение суммартных затрат на студента дистанционного обучения (бакалавриат) \n",
    "bak_online = total_coast_online_std + costs_of_salary_bachelor_std\n",
    "print(\"Распределение суммартных затрат на студента дистанционного обучения (бакалавриат, учебный год): \", bak_online)"
   ]
  },
  {
   "cell_type": "code",
   "execution_count": 23,
   "id": "5f75c101",
   "metadata": {},
   "outputs": [
    {
     "name": "stdout",
     "output_type": "stream",
     "text": [
      "Распределение суммартных затрат на студента очного обучения (магистратура, учебный год):  92065.66666666667\n"
     ]
    }
   ],
   "source": [
    "#Распределение суммартных затрат на студента очного обучения (магистратура) \n",
    "mag_online = total_coast_online_std + costs_of_salary_of_magistracy_std\n",
    "print(\"Распределение суммартных затрат на студента очного обучения (магистратура, учебный год): \", mag_online)"
   ]
  },
  {
   "cell_type": "code",
   "execution_count": 24,
   "id": "94ae8d84",
   "metadata": {},
   "outputs": [
    {
     "name": "stdout",
     "output_type": "stream",
     "text": [
      "Сравнение цен очного и дистанционного обучения в год\n"
     ]
    },
    {
     "data": {
      "text/plain": [
       "<BarContainer object of 4 artists>"
      ]
     },
     "execution_count": 24,
     "metadata": {},
     "output_type": "execute_result"
    },
    {
     "data": {
      "image/png": "[encoded data removed]",
      "text/plain": [
       "<Figure size 432x288 with 1 Axes>"
      ]
     },
     "metadata": {
      "needs_background": "light"
     },
     "output_type": "display_data"
    }
   ],
   "source": [
    "print(\"Сравнение цен очного и дистанционного обучения в год\")\n",
    "x = [1, 3, 5, 7]\n",
    "z1 = [bak, bak_online, mag, mag_online]\n",
    "\n",
    "plt.bar(x, z1)"
   ]
  },
  {
   "cell_type": "code",
   "execution_count": 32,
   "id": "f612e5f0",
   "metadata": {},
   "outputs": [],
   "source": [
    "#Цена за полное обучение с учетом инфляции (7%)\n",
    "\n",
    "bak_online_1 = bak_online                                 #1 год\n",
    "bak_online_2 = bak_online_1 + (bak_online_1 * 0.07)       #2 год\n",
    "bak_online_3 = bak_online_2 + (bak_online_2 * 0.07)       #3 год\n",
    "bak_online_4 = bak_online_3 + (bak_online_3 * 0.07)       #4 год\n",
    "\n",
    "mag_online_5 = mag_online                                 #5 год\n",
    "mag_online_6 = mag_online_5 + (mag_online_5 * 0.07)       #6 год\n",
    "\n",
    "bak_offline_1 = bak\n",
    "bak_offline_2 = bak_offline_1 + (bak_offline_1 * 0.07)\n",
    "bak_offline_3 = bak_offline_2 + (bak_offline_2 * 0.07)\n",
    "bak_offline_4 = bak_offline_3 + (bak_offline_3 * 0.07)\n",
    "\n",
    "mag_offline_5 = mag\n",
    "mag_offline_6 = mag_offline_5 + (mag_offline_5 * 0.07)"
   ]
  },
  {
   "cell_type": "code",
   "execution_count": 37,
   "id": "838dbef7",
   "metadata": {},
   "outputs": [
    {
     "name": "stdout",
     "output_type": "stream",
     "text": [
      "Изменение цены обучения из-за инфляции \n",
      "\n",
      "Бакалавриат в дистанционном формате:\n"
     ]
    },
    {
     "data": {
      "image/png": "[encoded data removed]",
      "text/plain": [
       "<Figure size 432x288 with 1 Axes>"
      ]
     },
     "metadata": {
      "needs_background": "light"
     },
     "output_type": "display_data"
    },
    {
     "name": "stdout",
     "output_type": "stream",
     "text": [
      "Бакалавриат в очном формате:\n"
     ]
    },
    {
     "data": {
      "image/png": "[encoded data removed]",
      "text/plain": [
       "<Figure size 432x288 with 1 Axes>"
      ]
     },
     "metadata": {
      "needs_background": "light"
     },
     "output_type": "display_data"
    },
    {
     "name": "stdout",
     "output_type": "stream",
     "text": [
      "Магистратура в дистанционном формате:\n"
     ]
    },
    {
     "data": {
      "image/png": "[encoded data removed]",
      "text/plain": [
       "<Figure size 432x288 with 1 Axes>"
      ]
     },
     "metadata": {
      "needs_background": "light"
     },
     "output_type": "display_data"
    },
    {
     "name": "stdout",
     "output_type": "stream",
     "text": [
      "Магистратура в очном формате:\n"
     ]
    },
    {
     "data": {
      "image/png": "[encoded data removed]",
      "text/plain": [
       "<Figure size 432x288 with 1 Axes>"
      ]
     },
     "metadata": {
      "needs_background": "light"
     },
     "output_type": "display_data"
    }
   ],
   "source": [
    "#Изменение цены обучения из-за инфляции\n",
    "print(\"Изменение цены обучения из-за инфляции \\n\")\n",
    "\n",
    "x = [bak_online_1, bak_online_2, bak_online_3, bak_online_4]\n",
    "print(\"Бакалавриат в дистанционном формате:\")\n",
    "plt.plot(x)\n",
    "plt.show()\n",
    "\n",
    "x = [bak_offline_1, bak_offline_2, bak_offline_3, bak_offline_4]\n",
    "print(\"Бакалавриат в очном формате:\")\n",
    "plt.plot(x)\n",
    "plt.show()\n",
    "\n",
    "x = [mag_offline_5, mag_offline_6]\n",
    "print(\"Магистратура в дистанционном формате:\")\n",
    "plt.plot(x)\n",
    "plt.show()\n",
    "\n",
    "x = [mag_online_5, mag_online_6]\n",
    "print(\"Магистратура в очном формате:\")\n",
    "plt.plot(x)\n",
    "plt.show()"
   ]
  },
  {
   "cell_type": "code",
   "execution_count": null,
   "id": "ad86774b",
   "metadata": {},
   "outputs": [],
   "source": []
  }
 ],
 "metadata": {
  "kernelspec": {
   "display_name": "Python 3",
   "language": "python",
   "name": "python3"
  },
  "language_info": {
   "codemirror_mode": {
    "name": "ipython",
    "version": 3
   },
   "file_extension": ".py",
   "mimetype": "text/x-python",
   "name": "python",
   "nbconvert_exporter": "python",
   "pygments_lexer": "ipython3",
   "version": "3.8.8"
  }
 },
 "nbformat": 4,
 "nbformat_minor": 5
}
